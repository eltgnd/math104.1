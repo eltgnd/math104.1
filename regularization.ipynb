{
 "cells": [
  {
   "cell_type": "markdown",
   "id": "6f5d17c6-74b0-4598-a54f-b6626aeb181c",
   "metadata": {},
   "source": [
    "# Regularization"
   ]
  },
  {
   "cell_type": "code",
   "execution_count": 1,
   "id": "68c21b76-bdae-48c6-8431-272154256c3d",
   "metadata": {},
   "outputs": [],
   "source": [
    "import numpy as np\n",
    "from sklearn.linear_model import LinearRegression, Lasso, Ridge\n",
    "from sklearn.model_selection import train_test_split\n",
    "from sklearn.metrics import mean_squared_error"
   ]
  },
  {
   "cell_type": "markdown",
   "id": "b9119782-5de4-4840-ae24-f570f637fc4d",
   "metadata": {},
   "source": [
    "### Recall"
   ]
  },
  {
   "cell_type": "code",
   "execution_count": 2,
   "id": "52998127-ee81-480a-afb0-dc086648ffda",
   "metadata": {},
   "outputs": [],
   "source": [
    "X1 = np.array([1,2,3,4,5])\n",
    "X2 = np.array([2,4,6,8,10])\n",
    "X = np.c_[X1,X2]\n",
    "\n",
    "y = X1"
   ]
  },
  {
   "cell_type": "code",
   "execution_count": 3,
   "id": "3e23783e-cf6f-4570-9f8d-1d8cffa2726f",
   "metadata": {},
   "outputs": [
    {
     "data": {
      "text/plain": [
       "array([0.2, 0.4])"
      ]
     },
     "execution_count": 3,
     "metadata": {},
     "output_type": "execute_result"
    }
   ],
   "source": [
    "model = LinearRegression()\n",
    "model.fit(X,y)\n",
    "\n",
    "coefficients = model.coef_\n",
    "coefficients"
   ]
  },
  {
   "cell_type": "markdown",
   "id": "09456f04-07c1-4177-bd99-758da02e6f5a",
   "metadata": {},
   "source": [
    "### Effect of Ridge or LASSO"
   ]
  },
  {
   "cell_type": "code",
   "execution_count": 8,
   "id": "413a9da1-819c-468a-be3e-4f2a6c50228b",
   "metadata": {},
   "outputs": [
    {
     "data": {
      "text/plain": [
       "array([0.19607843, 0.39215686])"
      ]
     },
     "execution_count": 8,
     "metadata": {},
     "output_type": "execute_result"
    }
   ],
   "source": [
    "ridge_model = Ridge(alpha=1)\n",
    "ridge_model.fit(X,y)\n",
    "\n",
    "ridge_model.coef_"
   ]
  },
  {
   "cell_type": "markdown",
   "id": "5404b6c0-497a-4879-952b-e5d7eca84238",
   "metadata": {},
   "source": [
    "### Questions\n",
    "1. What will happen if alpha is 0? Same as original model\n",
    "2. Impact on MSE? Lower accuracy\n",
    "3. How to choose alpha? Up to you\n",
    "4. What if I want to consolidate LASSO and Ridge?\n",
    "   - ElasticNet combines L1 and L2 regularizer. "
   ]
  },
  {
   "cell_type": "code",
   "execution_count": 10,
   "id": "7cec5f5b-d938-44f3-b989-673da504ce80",
   "metadata": {},
   "outputs": [
    {
     "data": {
      "text/plain": [
       "np.float64(0.0007689350249904003)"
      ]
     },
     "execution_count": 10,
     "metadata": {},
     "output_type": "execute_result"
    }
   ],
   "source": [
    "mean_squared_error(y,ridge_model.predict(X))"
   ]
  },
  {
   "cell_type": "markdown",
   "id": "23171d2b-b4d7-4647-b88c-041c5b539291",
   "metadata": {},
   "source": [
    "### Exercises\n",
    "1. Try different alphas, what will happen to coefficients?\n",
    "2. Try the same for lasso"
   ]
  },
  {
   "cell_type": "code",
   "execution_count": 23,
   "id": "b822e42f-68b3-4267-8975-36521648e395",
   "metadata": {},
   "outputs": [],
   "source": [
    "def test_ridge(alpha):\n",
    "    ridge_model = Ridge(alpha=alpha)\n",
    "    ridge_model.fit(X,y)\n",
    "    print(f'Ridge coefficient (alpha={alpha}): {ridge_model.coef_}, MSE: {mean_squared_error(y,ridge_model.predict(X))}')\n",
    "\n",
    "def test_lasso(alpha):\n",
    "    lasso_model = Lasso(alpha=alpha)\n",
    "    lasso_model.fit(X,y)\n",
    "    print(f'Lasso coefficient (alpha={alpha}): {lasso_model.coef_}, MSE: {mean_squared_error(y,lasso_model.predict(X))}')"
   ]
  },
  {
   "cell_type": "code",
   "execution_count": 24,
   "id": "8ffdb837-8505-4c36-8826-8d8724eca594",
   "metadata": {},
   "outputs": [
    {
     "name": "stdout",
     "output_type": "stream",
     "text": [
      "Ridge coefficient (alpha=1): [0.19607843 0.39215686], MSE: 0.0007689350249904003\n",
      "Lasso coefficient (alpha=1): [0.    0.375], MSE: 0.125\n",
      "Ridge coefficient (alpha=10): [0.16666667 0.33333333], MSE: 0.055555555555555636\n",
      "Lasso coefficient (alpha=10): [0. 0.], MSE: 2.0\n",
      "Ridge coefficient (alpha=100): [0.06666667 0.13333333], MSE: 0.8888888888888891\n",
      "Lasso coefficient (alpha=100): [0. 0.], MSE: 2.0\n"
     ]
    }
   ],
   "source": [
    "alphas = [1,10,100]\n",
    "for a in alphas:\n",
    "    test_ridge(a)\n",
    "    test_lasso(a)"
   ]
  },
  {
   "cell_type": "markdown",
   "id": "049e6462-5ed9-4748-8061-33a7f98cb612",
   "metadata": {},
   "source": [
    "alphas = [1,10,100]\n",
    "\n",
    "Ridge coefficient (alpha=1): [0.19607843 0.39215686], MSE: 0.0007689350249904003\n",
    "Lasso coefficient (alpha=1): [0.    0.375], MSE: 0.0007689350249904003\n",
    "\n",
    "Ridge coefficient (alpha=10): [0.16666667 0.33333333], MSE: 0.055555555555555636\n",
    "Lasso coefficient (alpha=10): [0. 0.], MSE: 0.0007689350249904003\n",
    "\n",
    "Ridge coefficient (alpha=100): [0.06666667 0.13333333], MSE: 0.8888888888888891\n",
    "Lasso coefficient (alpha=100): [0. 0.], MSE: 0.0007689350249904003"
   ]
  },
  {
   "cell_type": "code",
   "execution_count": null,
   "id": "1cbcdb10-f0ee-4eb8-84cb-118e73fab88b",
   "metadata": {},
   "outputs": [],
   "source": []
  }
 ],
 "metadata": {
  "kernelspec": {
   "display_name": "Python 3 (ipykernel)",
   "language": "python",
   "name": "python3"
  },
  "language_info": {
   "codemirror_mode": {
    "name": "ipython",
    "version": 3
   },
   "file_extension": ".py",
   "mimetype": "text/x-python",
   "name": "python",
   "nbconvert_exporter": "python",
   "pygments_lexer": "ipython3",
   "version": "3.10.14"
  }
 },
 "nbformat": 4,
 "nbformat_minor": 5
}

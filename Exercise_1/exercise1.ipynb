{
 "cells": [
  {
   "cell_type": "markdown",
   "id": "d2679748-e2c4-4f7b-983f-2816fc68e21b",
   "metadata": {},
   "source": [
    "# MATH 104.1: Coding Exercise 1 (Linear Regression)\n",
    "Submitted by Val Allen U. Eltagonde"
   ]
  },
  {
   "cell_type": "code",
   "execution_count": 1,
   "id": "c5ee1291-4ebd-4966-97d1-466069f9272b",
   "metadata": {},
   "outputs": [],
   "source": [
    "import pandas as pd\n",
    "\n",
    "from sklearn.model_selection import train_test_split\n",
    "from sklearn.preprocessing import MinMaxScaler\n",
    "from sklearn.decomposition import PCA"
   ]
  },
  {
   "cell_type": "markdown",
   "id": "4180211a-8c2f-4acb-862f-1b9187b995e8",
   "metadata": {},
   "source": [
    "## 0️⃣ Importing the data"
   ]
  },
  {
   "cell_type": "code",
   "execution_count": 28,
   "id": "970b043a-46ae-47f1-b9f9-94f9903e0063",
   "metadata": {},
   "outputs": [
    {
     "data": {
      "text/html": [
       "<div>\n",
       "<style scoped>\n",
       "    .dataframe tbody tr th:only-of-type {\n",
       "        vertical-align: middle;\n",
       "    }\n",
       "\n",
       "    .dataframe tbody tr th {\n",
       "        vertical-align: top;\n",
       "    }\n",
       "\n",
       "    .dataframe thead th {\n",
       "        text-align: right;\n",
       "    }\n",
       "</style>\n",
       "<table border=\"1\" class=\"dataframe\">\n",
       "  <thead>\n",
       "    <tr style=\"text-align: right;\">\n",
       "      <th></th>\n",
       "      <th>HOUSE_ID</th>\n",
       "      <th>floor_area</th>\n",
       "      <th>distance_to_cc</th>\n",
       "      <th>house_age</th>\n",
       "      <th>number_of_rooms</th>\n",
       "      <th>number_of_baths</th>\n",
       "      <th>house_price</th>\n",
       "    </tr>\n",
       "  </thead>\n",
       "  <tbody>\n",
       "    <tr>\n",
       "      <th>0</th>\n",
       "      <td>H0001</td>\n",
       "      <td>52.16</td>\n",
       "      <td>11.85</td>\n",
       "      <td>44</td>\n",
       "      <td>6</td>\n",
       "      <td>1.0</td>\n",
       "      <td>269.35</td>\n",
       "    </tr>\n",
       "    <tr>\n",
       "      <th>1</th>\n",
       "      <td>H0002</td>\n",
       "      <td>215.95</td>\n",
       "      <td>15.89</td>\n",
       "      <td>40</td>\n",
       "      <td>2</td>\n",
       "      <td>3.0</td>\n",
       "      <td>720.86</td>\n",
       "    </tr>\n",
       "    <tr>\n",
       "      <th>2</th>\n",
       "      <td>H0003</td>\n",
       "      <td>191.86</td>\n",
       "      <td>13.67</td>\n",
       "      <td>45</td>\n",
       "      <td>2</td>\n",
       "      <td>3.0</td>\n",
       "      <td>672.68</td>\n",
       "    </tr>\n",
       "    <tr>\n",
       "      <th>3</th>\n",
       "      <td>H0004</td>\n",
       "      <td>239.91</td>\n",
       "      <td>26.34</td>\n",
       "      <td>11</td>\n",
       "      <td>5</td>\n",
       "      <td>3.5</td>\n",
       "      <td>873.12</td>\n",
       "    </tr>\n",
       "    <tr>\n",
       "      <th>4</th>\n",
       "      <td>H0005</td>\n",
       "      <td>113.07</td>\n",
       "      <td>14.69</td>\n",
       "      <td>32</td>\n",
       "      <td>5</td>\n",
       "      <td>1.5</td>\n",
       "      <td>466.75</td>\n",
       "    </tr>\n",
       "  </tbody>\n",
       "</table>\n",
       "</div>"
      ],
      "text/plain": [
       "  HOUSE_ID  floor_area  distance_to_cc  house_age  number_of_rooms  \\\n",
       "0    H0001       52.16           11.85         44                6   \n",
       "1    H0002      215.95           15.89         40                2   \n",
       "2    H0003      191.86           13.67         45                2   \n",
       "3    H0004      239.91           26.34         11                5   \n",
       "4    H0005      113.07           14.69         32                5   \n",
       "\n",
       "   number_of_baths  house_price  \n",
       "0              1.0       269.35  \n",
       "1              3.0       720.86  \n",
       "2              3.0       672.68  \n",
       "3              3.5       873.12  \n",
       "4              1.5       466.75  "
      ]
     },
     "execution_count": 28,
     "metadata": {},
     "output_type": "execute_result"
    }
   ],
   "source": [
    "df = pd.read_csv('house_pricing.csv')\n",
    "df.head()"
   ]
  },
  {
   "cell_type": "markdown",
   "id": "9f47f2bf-20e9-41e0-a22e-6aef67e08638",
   "metadata": {},
   "source": [
    "## 1️⃣ Splitting the data into train and test sets"
   ]
  },
  {
   "cell_type": "code",
   "execution_count": 29,
   "id": "137c6e13-995b-4f86-9a86-df1395a038a7",
   "metadata": {},
   "outputs": [],
   "source": [
    "X = df[['floor_area', 'distance_to_cc', 'house_age', 'number_of_rooms', 'number_of_baths']]\n",
    "y = df[['house_price']]\n",
    "train_size = 0.8\n",
    "test_size = 0.2\n",
    "\n",
    "X_train, X_test, y_train, y_test = train_test_split(X, y, test_size=test_size, train_size=train_size, random_state=1)"
   ]
  },
  {
   "cell_type": "markdown",
   "id": "0c7fdb11-2ce7-4798-89f2-25759a15ad64",
   "metadata": {},
   "source": [
    "## 2️⃣ Scaling the training data"
   ]
  },
  {
   "cell_type": "code",
   "execution_count": 33,
   "id": "24fdd1c2-852c-455e-85bc-45ec7e44fb82",
   "metadata": {},
   "outputs": [],
   "source": [
    "scaler = MinMaxScaler()\n",
    "X_train_scaled = scaler.fit_transform(X_train)\n",
    "X_test_scaled = scaler.transform(X_test)\n",
    "\n",
    "X_train_scaled = pd.DataFrame(X_train_scaled, columns = X_train.columns)\n",
    "X_test_scaled = pd.DataFrame(X_test_scaled, columns = X_test.columns)"
   ]
  },
  {
   "cell_type": "markdown",
   "id": "83b9d621-5560-4cc5-b664-6e6d074cdc3c",
   "metadata": {},
   "source": [
    "## 3️⃣ Performing PCA on the raw and the scaled data"
   ]
  },
  {
   "cell_type": "code",
   "execution_count": 34,
   "id": "4ebb09ee-5d5a-419f-a652-5fc912da0b3a",
   "metadata": {},
   "outputs": [],
   "source": [
    "pca = PCA()\n",
    "X_train_scaled_pca = pca.fit_transform(X_train_scaled)\n",
    "X_test_scaled_pca = pca.transform(X_test)"
   ]
  },
  {
   "cell_type": "code",
   "execution_count": 41,
   "id": "7b638878-3d54-4952-b525-a0565cc0b64f",
   "metadata": {},
   "outputs": [
    {
     "data": {
      "text/plain": [
       "array([0.50591, 0.29065, 0.19996, 0.00349, 0.     ])"
      ]
     },
     "execution_count": 41,
     "metadata": {},
     "output_type": "execute_result"
    }
   ],
   "source": [
    "pca.explained_variance_ratio_.round(5)"
   ]
  },
  {
   "cell_type": "markdown",
   "id": "f8b10a45-6c33-49f2-a604-d9d3c59b02fb",
   "metadata": {},
   "source": [
    "💡 Observation: PCA components 1 to 3 explain at least 95% of the variance in the data."
   ]
  },
  {
   "cell_type": "code",
   "execution_count": 47,
   "id": "61dffe83-925f-43da-a0b5-f44f9a53c80e",
   "metadata": {},
   "outputs": [],
   "source": [
    "component_cutoff = 3\n",
    "X_train_scaled_reduced = X_train_scaled_pca[:,:component_cutoff]\n",
    "X_test_scaled_reduced = X_test_scaled_pca[:,:component_cutoff]"
   ]
  },
  {
   "cell_type": "markdown",
   "id": "5e247776-d042-4c7e-9f9c-f931f921b257",
   "metadata": {},
   "source": [
    "## 4️⃣ Creating a Python method for model training and evaluation"
   ]
  },
  {
   "cell_type": "code",
   "execution_count": null,
   "id": "ca5cf3fb-f1b0-459a-9542-8f3927ef873d",
   "metadata": {},
   "outputs": [],
   "source": [
    "# Linear Regression Model Training and Evaluation\n",
    "class LinearRegression_MTE:\n",
    "    def __init__(self, training_input, training_output, test_input, test_output):\n",
    "        self.X_train = training_input\n",
    "        self.y_train = training_output\n",
    "        self.X_test = test_input\n",
    "        self.y_test = test_output\n",
    "\n",
    "    def train(self):\n",
    "        # train a linear regression model on the training data\n",
    "\n",
    "    def generate_predictions(self):\n",
    "        # generate predictions on test\n",
    "\n",
    "    def get_model(self):\n",
    "        # return trained linear model\n",
    "\n",
    "    def get_predictions(self):\n",
    "        # return test predictions\n",
    "\n",
    "    def get_MSE(self):\n",
    "        #\n",
    "\n",
    "    def get_R2(self):\n",
    "        #"
   ]
  },
  {
   "cell_type": "markdown",
   "id": "53f076de-a132-4eee-9015-044e12db7a03",
   "metadata": {},
   "source": [
    "## 5️⃣ Apply linear regression and evaluate performance per dataset\n",
    "(a) raw (unscaled) data\n",
    "(b) reduced version of the training data (via PCA)\n",
    "(c) scaled data\n",
    "(d) scaled and reduced via PCA"
   ]
  },
  {
   "cell_type": "markdown",
   "id": "fef8dedf-f3ea-4a23-bb1a-4dd721c9eac9",
   "metadata": {},
   "source": [
    "### Raw (unscaled) data"
   ]
  },
  {
   "cell_type": "code",
   "execution_count": null,
   "id": "e9fe5fd3-b35a-4a89-a192-8af656654101",
   "metadata": {},
   "outputs": [],
   "source": []
  },
  {
   "cell_type": "markdown",
   "id": "4bbf6820-f488-426c-9c6f-97d549d9aa04",
   "metadata": {},
   "source": [
    "### Raw (unscaled) data"
   ]
  },
  {
   "cell_type": "code",
   "execution_count": null,
   "id": "3d4db4f1-b955-44e8-a2ac-df72fd14c1c7",
   "metadata": {},
   "outputs": [],
   "source": []
  },
  {
   "cell_type": "markdown",
   "id": "e1ea7c92-08d9-4baf-9ba1-b7827d1af3cc",
   "metadata": {},
   "source": [
    "---"
   ]
  },
  {
   "cell_type": "markdown",
   "id": "25139d5e-8c5a-44ba-9873-a33377946538",
   "metadata": {},
   "source": [
    "## 📈 Insighting"
   ]
  },
  {
   "cell_type": "markdown",
   "id": "b3c54114-8f4e-45d0-aecd-1d9c0077c41f",
   "metadata": {},
   "source": [
    "\n"
   ]
  }
 ],
 "metadata": {
  "kernelspec": {
   "display_name": "Python 3 (ipykernel)",
   "language": "python",
   "name": "python3"
  },
  "language_info": {
   "codemirror_mode": {
    "name": "ipython",
    "version": 3
   },
   "file_extension": ".py",
   "mimetype": "text/x-python",
   "name": "python",
   "nbconvert_exporter": "python",
   "pygments_lexer": "ipython3",
   "version": "3.10.14"
  }
 },
 "nbformat": 4,
 "nbformat_minor": 5
}

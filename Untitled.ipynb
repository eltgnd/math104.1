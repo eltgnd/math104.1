{
 "cells": [
  {
   "cell_type": "code",
   "execution_count": 2,
   "id": "e8d6d75f-d80a-4235-886f-a9432a7c4bb3",
   "metadata": {},
   "outputs": [],
   "source": [
    "import numpy as np\n",
    "import sympy as sp"
   ]
  },
  {
   "cell_type": "code",
   "execution_count": 5,
   "id": "1faf44d1-d233-4982-86d3-43465ba9435a",
   "metadata": {},
   "outputs": [],
   "source": [
    "X = sp.Matrix([[1,1,1,1],[0,1,-1,2]]).transpose()\n",
    "y = sp.Matrix([1,-1,4,-13])\n",
    "\n",
    "w_hat = (X.transpose()*X).inv() * X.transpose() * y"
   ]
  },
  {
   "cell_type": "code",
   "execution_count": 6,
   "id": "e649bd89-ac61-4693-8257-ac116cbb285c",
   "metadata": {},
   "outputs": [
    {
     "data": {
      "text/latex": [
       "$\\displaystyle \\left[\\begin{matrix}\\frac{2}{5}\\\\- \\frac{53}{10}\\end{matrix}\\right]$"
      ],
      "text/plain": [
       "Matrix([\n",
       "[   2/5],\n",
       "[-53/10]])"
      ]
     },
     "execution_count": 6,
     "metadata": {},
     "output_type": "execute_result"
    }
   ],
   "source": [
    "w_hat"
   ]
  },
  {
   "cell_type": "code",
   "execution_count": 26,
   "id": "a9add147-1fcf-4347-9cee-20d13d2f5a65",
   "metadata": {},
   "outputs": [
    {
     "data": {
      "text/latex": [
       "$\\displaystyle -0.0837320574162679$"
      ],
      "text/plain": [
       "-0.0837320574162679"
      ]
     },
     "execution_count": 26,
     "metadata": {},
     "output_type": "execute_result"
    }
   ],
   "source": [
    "def f(x):\n",
    "    return (w_hat[0]) + x*(w_hat[1])\n",
    "\n",
    "f(0)"
   ]
  },
  {
   "cell_type": "code",
   "execution_count": 27,
   "id": "ee13b637-6de2-4aee-bb7a-680ab8d6c5f0",
   "metadata": {},
   "outputs": [],
   "source": [
    "import matplotlib.pyplot as plt"
   ]
  },
  {
   "cell_type": "code",
   "execution_count": 28,
   "id": "6bbab5f2-3b00-4033-88c6-845dee7de438",
   "metadata": {},
   "outputs": [
    {
     "data": {
      "image/png": "[encoded data removed]",
      "text/plain": [
       "<Figure size 640x480 with 1 Axes>"
      ]
     },
     "metadata": {},
     "output_type": "display_data"
    }
   ],
   "source": [
    "plt.scatter([0,1,-1,2], y)\n",
    "plt.plot([i for i in np.arange(-1,2,step=0.01)], [f(i) for i in np.arange(-1,2,step=0.01)])\n",
    "plt.show()"
   ]
  },
  {
   "cell_type": "code",
   "execution_count": 16,
   "id": "b0647918-3cec-4818-b144-1ac3550b93e4",
   "metadata": {},
   "outputs": [],
   "source": [
    "# Getting loss (general method)\n",
    "N = 4\n",
    "loss = (1/(2*N)) * ((w_hat.transpose() * X.transpose() * X * w_hat) - (2*y.transpose()*X*w_hat) + (y.transpose()*y))"
   ]
  },
  {
   "cell_type": "code",
   "execution_count": 17,
   "id": "7929ad48-2891-4175-8490-40056bbc9b11",
   "metadata": {},
   "outputs": [
    {
     "data": {
      "text/latex": [
       "$\\displaystyle 3.2875$"
      ],
      "text/plain": [
       "3.28750000000000"
      ]
     },
     "execution_count": 17,
     "metadata": {},
     "output_type": "execute_result"
    }
   ],
   "source": [
    "loss.det()"
   ]
  },
  {
   "cell_type": "code",
   "execution_count": 18,
   "id": "56feca52-9dc7-4fa9-be40-6fa5dde52d19",
   "metadata": {},
   "outputs": [
    {
     "data": {
      "text/latex": [
       "$\\displaystyle 3.2875$"
      ],
      "text/plain": [
       "3.28750000000000"
      ]
     },
     "execution_count": 18,
     "metadata": {},
     "output_type": "execute_result"
    }
   ],
   "source": [
    "# Getting loss (for y=mx+b)\n",
    "loss = 0\n",
    "x_only = [0,1,-1,2]\n",
    "for i in range(4):\n",
    "    loss += (1/(2*N)) * (y[i] - w_hat[0] - w_hat[1]*x_only[i])**2\n",
    "loss"
   ]
  },
  {
   "cell_type": "code",
   "execution_count": 21,
   "id": "0e429b41-4209-486f-aded-77713c6cdaff",
   "metadata": {},
   "outputs": [
    {
     "data": {
      "text/latex": [
       "$\\displaystyle \\left[\\begin{matrix}-0.0837320574162679\\\\-4.2822966507177\\end{matrix}\\right]$"
      ],
      "text/plain": [
       "Matrix([\n",
       "[-0.0837320574162679],\n",
       "[   -4.2822966507177]])"
      ]
     },
     "execution_count": 21,
     "metadata": {},
     "output_type": "execute_result"
    }
   ],
   "source": [
    "# Ridge\n",
    "l = 1.2\n",
    "w_hat = (X.transpose()*X + (l * sp.eye(2))).inv() * X.transpose() * y\n",
    "w_hat"
   ]
  },
  {
   "cell_type": "code",
   "execution_count": 22,
   "id": "3a7e153a-a6ed-4248-be69-6df45191e1b2",
   "metadata": {},
   "outputs": [
    {
     "data": {
      "text/latex": [
       "$\\displaystyle 3.93514056454751$"
      ],
      "text/plain": [
       "3.93514056454751"
      ]
     },
     "execution_count": 22,
     "metadata": {},
     "output_type": "execute_result"
    }
   ],
   "source": [
    "# Getting loss (for y=mx+b)\n",
    "loss = 0\n",
    "x_only = [0,1,-1,2]\n",
    "for i in range(4):\n",
    "    loss += (1/(2*N)) * (y[i] - w_hat[0] - w_hat[1]*x_only[i])**2\n",
    "loss"
   ]
  },
  {
   "cell_type": "code",
   "execution_count": 25,
   "id": "4dc80381-9b25-4f5a-8d0f-a676d3c564a1",
   "metadata": {},
   "outputs": [
    {
     "data": {
      "text/latex": [
       "$\\displaystyle 3.93514056454752$"
      ],
      "text/plain": [
       "3.93514056454752"
      ]
     },
     "execution_count": 25,
     "metadata": {},
     "output_type": "execute_result"
    }
   ],
   "source": [
    "# Getting loss (general method)\n",
    "N = 4\n",
    "loss = (1/(2*N)) * ((w_hat.transpose() * X.transpose() * X * w_hat) - (2*y.transpose()*X*w_hat) + (y.transpose()*y))\n",
    "loss.det()"
   ]
  },
  {
   "cell_type": "code",
   "execution_count": null,
   "id": "99cc3269-ae87-4474-974f-572c349f4c83",
   "metadata": {},
   "outputs": [],
   "source": [
    "def f(x):\n",
    "    return (w_hat) + x*(-53/10)\n",
    "\n",
    "f(0)"
   ]
  }
 ],
 "metadata": {
  "kernelspec": {
   "display_name": "Python 3 (ipykernel)",
   "language": "python",
   "name": "python3"
  },
  "language_info": {
   "codemirror_mode": {
    "name": "ipython",
    "version": 3
   },
   "file_extension": ".py",
   "mimetype": "text/x-python",
   "name": "python",
   "nbconvert_exporter": "python",
   "pygments_lexer": "ipython3",
   "version": "3.10.14"
  }
 },
 "nbformat": 4,
 "nbformat_minor": 5
}
